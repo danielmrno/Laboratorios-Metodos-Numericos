{
 "cells": [
  {
   "cell_type": "markdown",
   "metadata": {},
   "source": [
    "# Laboratorio Octubre 5"
   ]
  },
  {
   "cell_type": "code",
   "execution_count": 11,
   "metadata": {
    "collapsed": false
   },
   "outputs": [
    {
     "name": "stdout",
     "output_type": "stream",
     "text": [
      "Ingrese el Valor de h1\n",
      "0  |  0.5  |  100 %\n",
      "1  |  0.566311003197  |  11.7092909767 %\n",
      "2  |  0.567143165035  |  0.146728707837 %\n",
      "3  |  0.56714329041  |  2.21063919844e-05 %\n",
      "4  |  0.56714329041  |  5.08968352943e-13 %\n",
      "5  |  0.56714329041  |  -1.95757058824e-14 %\n"
     ]
    }
   ],
   "source": [
    "import math\n",
    "\n",
    "h=input(\"Ingrese el Valor de h\")\n",
    "xi=0\n",
    "it=0\n",
    "while it<=5:\n",
    "    \n",
    "    def fx(x):\n",
    "        return ((math.exp(-x))-x)\n",
    "       \n",
    "    def dfx(x):\n",
    "        return (-(math.exp(-x))-1)\n",
    "        \n",
    "\n",
    "    def fi(x):\n",
    "        f1=xi-(fx(xi)/dfx(xi))\n",
    "        return f1\n",
    "    anterior=xi\n",
    "    aproximado=\"100\"\n",
    "    if(xi!=0):\n",
    "        aproximado=((fi(xi)-anterior)/fi(xi))*100\n",
    "    print it,\" | \",fi(xi),\" | \",aproximado,\"%\"\n",
    "    \n",
    "    xi=fi(xi)\n",
    "    it+=1"
   ]
  },
  {
   "cell_type": "code",
   "execution_count": null,
   "metadata": {
    "collapsed": true
   },
   "outputs": [],
   "source": []
  }
 ],
 "metadata": {
  "kernelspec": {
   "display_name": "Python 2",
   "language": "python",
   "name": "python2"
  },
  "language_info": {
   "codemirror_mode": {
    "name": "ipython",
    "version": 2
   },
   "file_extension": ".py",
   "mimetype": "text/x-python",
   "name": "python",
   "nbconvert_exporter": "python",
   "pygments_lexer": "ipython2",
   "version": "2.7.10"
  }
 },
 "nbformat": 4,
 "nbformat_minor": 0
}
