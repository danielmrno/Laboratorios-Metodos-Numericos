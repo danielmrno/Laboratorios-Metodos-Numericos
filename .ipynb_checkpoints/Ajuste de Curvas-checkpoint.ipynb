{
 "cells": [
  {
   "cell_type": "markdown",
   "metadata": {},
   "source": [
    "# Ajuste de Curvas"
   ]
  },
  {
   "cell_type": "code",
   "execution_count": 14,
   "metadata": {
    "collapsed": false
   },
   "outputs": [
    {
     "name": "stdout",
     "output_type": "stream",
     "text": [
      "VALORES CALCULADOS\n",
      "La media es: 20.4\n",
      "La desviacion es:  1.39170474788\n",
      "VALORES CON LIBRERIA\n"
     ]
    }
   ],
   "source": [
    "import math\n",
    "import numpy as np\n",
    "x= [19,19,23,21,21,21,19,18,20,22,22,21,19,19,20,20,20,21,20,23]\n",
    "aux=0\n",
    "promedio=0.0\n",
    "varianza=0.0\n",
    "\n",
    "print\"VALORES CALCULADOS\"\n",
    "while(aux<20):\n",
    "    promedio+= x[aux]\n",
    "    aux+=1  \n",
    "promedio=promedio/aux\n",
    "print \"La media es:\",promedio\n",
    "aux=0\n",
    "while(aux<20):\n",
    "    varianza+= (x[aux]-promedio)**2\n",
    "    aux+=1  \n",
    "varianza=varianza/(aux-1)\n",
    "desviacion=math.sqrt(varianza)\n",
    "print \"La desviacion es: \",desviacion\n",
    "print \"VALORES CON LIBRERIA\"\n",
    "\n"
   ]
  },
  {
   "cell_type": "markdown",
   "metadata": {},
   "source": [
    "# Segunda parte "
   ]
  },
  {
   "cell_type": "code",
   "execution_count": 3,
   "metadata": {
    "collapsed": false
   },
   "outputs": [
    {
     "name": "stdout",
     "output_type": "stream",
     "text": [
      "El valor de ai es:  0.0285714285714\n",
      "El valor de a0 es:  20.1\n"
     ]
    }
   ],
   "source": [
    "import math\n",
    "import numpy as np\n",
    "import pylab as pl\n",
    "y= [19,19,23,21,21,21,19,18,20,22,22,21,19,19,20,20,20,21,20,23]\n",
    "x=[1,2,3,4,5,6,7,8,9,10,11,12,13,14,15,16,17,18,19,20]\n",
    "valoresx1 = []\n",
    "valoresy1 = []\n",
    "xi=np.array(x)\n",
    "yi=np.array(y)\n",
    "sumatoriaxiyi=0.0\n",
    "sumatoriaxi=0.0\n",
    "sumatoriayi=0.0\n",
    "sumatoriaxicuad=0.0\n",
    "aux=0\n",
    "while (aux<20):\n",
    "    sumatoriaxiyi+=(yi[aux]*xi[aux])\n",
    "    sumatoriaxi+=xi[aux]\n",
    "    sumatoriayi+=yi[aux]\n",
    "    sumatoriaxicuad+=xi[aux]**2\n",
    "    aux+=1\n",
    "ai=0.0\n",
    "ai= ((20*sumatoriaxiyi)-(sumatoriaxi*sumatoriayi))/((20*sumatoriaxicuad)-(sumatoriaxi**2))\n",
    "print \"El valor de ai es: \",ai\n",
    "a0=0.0\n",
    "a0=yi.mean()-(ai*xi.mean())\n",
    "print \"El valor de a0 es: \",a0\n",
    "\n",
    "x=0.0\n",
    "def fx1(x):\n",
    "        return a0+(ai*x)\n",
    "    \n",
    "while (x<=20):\n",
    "    y1=fx1(x)\n",
    "    valoresx1.append(x)\n",
    "    valoresy1.append(y1)\n",
    "    x+=1\n",
    "\n",
    "f1 = pl.plot(yi, '.')\n",
    "f2=  pl.plot(valoresx1, valoresy1, \"g\")\n",
    "\n",
    "pl.title(\"Ajuste de curvas\")\n",
    "pl.xlabel(\"x\")\n",
    "pl.ylabel(\"y\")\n",
    "pl.xlim(0, 21)\n",
    "pl.ylim(17, 24)\n",
    "pl.grid(True)\n",
    "\n",
    "pl.show()"
   ]
  },
  {
   "cell_type": "code",
   "execution_count": null,
   "metadata": {
    "collapsed": true
   },
   "outputs": [],
   "source": []
  }
 ],
 "metadata": {
  "kernelspec": {
   "display_name": "Python 2",
   "language": "python",
   "name": "python2"
  },
  "language_info": {
   "codemirror_mode": {
    "name": "ipython",
    "version": 2
   },
   "file_extension": ".py",
   "mimetype": "text/x-python",
   "name": "python",
   "nbconvert_exporter": "python",
   "pygments_lexer": "ipython2",
   "version": "2.7.10"
  }
 },
 "nbformat": 4,
 "nbformat_minor": 0
}
