{
 "cells": [
  {
   "cell_type": "markdown",
   "metadata": {},
   "source": [
    "# Laboratorio #4 -Daniel Moreno 160003130"
   ]
  },
  {
   "cell_type": "code",
   "execution_count": 6,
   "metadata": {
    "collapsed": false
   },
   "outputs": [
    {
     "name": "stdout",
     "output_type": "stream",
     "text": [
      "orden    Valor aproximado  Valor        Error\n",
      "  0     0.707106781187     0.5       -0.414213562373\n",
      "  1     0.521986658763     0.5       -0.0439733175266\n",
      "  2     0.497754491403     0.5       0.00449101719315\n",
      "  3     0.49986914693     0.5       0.000261706139912\n",
      "  4     0.500007550811     0.5       -1.51016212255e-05\n",
      "  5     0.500000304     0.5       -6.08000744862e-07\n",
      "  6     0.499999987799     0.5       2.44027499319e-08\n"
     ]
    }
   ],
   "source": [
    "import math\n",
    "x=(math.pi)/4\n",
    "x1=(math.pi)/3\n",
    "h=(math.pi)/12\n",
    "error=0\n",
    "orden=0\n",
    "print \"orden    Valor aproximado  Valor        Error\"\n",
    "while orden < 7:\n",
    "\n",
    "    def fx(x1):\n",
    "        return math.cos(x1)\n",
    "\n",
    "    def faprox(x,orden):\n",
    "        f=math.cos(x)\n",
    "        f1=-math.sin(x)\n",
    "        f2=-math.cos(x)\n",
    "        f3=math.sin(x)\n",
    "        f4=math.cos(x)\n",
    "        f5=-math.sin(x)\n",
    "        f6=-math.cos(x)\n",
    "        deri=[f1,f2,f3,f4,f5,f6]\n",
    "        aux=f\n",
    "        n=0\n",
    "        while orden > 0:\n",
    "            aux+=(deri[n]/math.factorial(n+1))*(h**(n+1))\n",
    "            n+=1\n",
    "            orden-=1\n",
    "        return aux\n",
    "    error=(fx(x1)-faprox(x,orden))/fx(x1)\n",
    "    print \" \",orden,\"   \",faprox(x,orden),\"   \", fx(x1),\"     \",error\n",
    "    orden+=1"
   ]
  }
 ],
 "metadata": {
  "kernelspec": {
   "display_name": "Python 2",
   "language": "python",
   "name": "python2"
  },
  "language_info": {
   "codemirror_mode": {
    "name": "ipython",
    "version": 2
   },
   "file_extension": ".py",
   "mimetype": "text/x-python",
   "name": "python",
   "nbconvert_exporter": "python",
   "pygments_lexer": "ipython2",
   "version": "2.7.10"
  }
 },
 "nbformat": 4,
 "nbformat_minor": 0
}
