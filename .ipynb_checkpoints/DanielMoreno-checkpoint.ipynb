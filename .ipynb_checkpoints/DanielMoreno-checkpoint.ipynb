{
 "cells": [
  {
   "cell_type": "markdown",
   "metadata": {},
   "source": [
    "# Parcial Daniel Moreno \n",
    "160003130"
   ]
  },
  {
   "cell_type": "code",
   "execution_count": 7,
   "metadata": {
    "collapsed": false
   },
   "outputs": [
    {
     "name": "stdout",
     "output_type": "stream",
     "text": [
      " La funcion es: 0.573333333333 +( 0.619393939394 *x)\n",
      "\n",
      "El valor de f(x) para x=1.5 por medio de interpolacion lineal usando los valores de x0=1 y xi=2 es:  1.1\n"
     ]
    }
   ],
   "source": [
    "import math\n",
    "import numpy as np\n",
    "import pylab as pl\n",
    "y= [0.8,1.4,0.6,3.9,7.8,6.1,0.3,7.7,2.3,8.9]\n",
    "x=[1,2,3,4,5,6,7,8,9,10]\n",
    "valoresx1 = []\n",
    "valoresy1 = []\n",
    "xi=np.array(x)\n",
    "yi=np.array(y)\n",
    "sumatoriaxiyi=0.0\n",
    "sumatoriaxi=0.0\n",
    "sumatoriayi=0.0\n",
    "sumatoriaxicuad=0.0\n",
    "aux=0\n",
    "while (aux<10):\n",
    "    sumatoriaxiyi+=(yi[aux]*xi[aux])\n",
    "    sumatoriaxi+=xi[aux]\n",
    "    sumatoriayi+=yi[aux]\n",
    "    sumatoriaxicuad+=xi[aux]**2\n",
    "    aux+=1\n",
    "ai=0.0\n",
    "ai= ((10*sumatoriaxiyi)-(sumatoriaxi*sumatoriayi))/((10*sumatoriaxicuad)-(sumatoriaxi**2))\n",
    "#print \"El valor de ai es: \",ai\n",
    "a0=0.0\n",
    "a0=yi.mean()-(ai*xi.mean())\n",
    "#print \"El valor de a0 es: \",a0\n",
    "print \"La funcion es:\",a0,\"+(\",ai,\"*x)\"\n",
    "\n",
    "x=0.0\n",
    "def fx1(x):\n",
    "        return a0+(ai*x)\n",
    "    \n",
    "while (x<=10):\n",
    "    y1=fx1(x)\n",
    "    valoresx1.append(x)\n",
    "    valoresy1.append(y1)\n",
    "    x+=1\n",
    "\n",
    "def fix(x):\n",
    "    return (0.8)+((1.4-0.8)/(2-1))*(x-1)\n",
    "    \n",
    "print \"\"\n",
    "print \"El valor de f(x) para x=1.5 por medio de interpolacion lineal usando los valores de x0=1 y xi=2 es: \",fix(1.5)\n",
    "f1 = pl.plot(yi, '.')\n",
    "f2=  pl.plot(valoresx1, valoresy1, \"g\")\n",
    "\n",
    "pl.title(\"Ajuste de curvas\")\n",
    "pl.xlabel(\"x\")\n",
    "pl.ylabel(\"y\")\n",
    "pl.xlim(0, 10)\n",
    "pl.ylim(0, 10)\n",
    "pl.grid(True)\n",
    "\n",
    "pl.show()"
   ]
  },
  {
   "cell_type": "code",
   "execution_count": null,
   "metadata": {
    "collapsed": true
   },
   "outputs": [],
   "source": []
  }
 ],
 "metadata": {
  "kernelspec": {
   "display_name": "Python 2",
   "language": "python",
   "name": "python2"
  },
  "language_info": {
   "codemirror_mode": {
    "name": "ipython",
    "version": 2
   },
   "file_extension": ".py",
   "mimetype": "text/x-python",
   "name": "python",
   "nbconvert_exporter": "python",
   "pygments_lexer": "ipython2",
   "version": "2.7.10"
  }
 },
 "nbformat": 4,
 "nbformat_minor": 0
}
