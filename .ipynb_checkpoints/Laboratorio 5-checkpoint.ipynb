{
 "cells": [
  {
   "cell_type": "markdown",
   "metadata": {},
   "source": [
    "# Laboratorio #5 Daniel Moreno-160003130"
   ]
  },
  {
   "cell_type": "markdown",
   "metadata": {},
   "source": [
    "# x^2-2x+3"
   ]
  },
  {
   "cell_type": "code",
   "execution_count": 33,
   "metadata": {
    "collapsed": false
   },
   "outputs": [
    {
     "name": "stdout",
     "output_type": "stream",
     "text": [
      "0.0   0.0   1.5\n",
      "1.0   1.5   2.625\n",
      "2.0   2.625   4.9453125\n",
      "3.0   4.9453125   13.7280578613\n",
      "4.0   13.7280578613   95.729786322\n",
      "5.0   95.729786322   4583.59599463\n",
      "6.0   4583.59599463   10504677.621\n",
      "7.0   10504677.621   5.51741259603e+13\n",
      "8.0   5.51741259603e+13   1.52209208774e+27\n",
      "9.0   1.52209208774e+27   1.15838216179e+54\n",
      "10.0   1.15838216179e+54   6.70924616372e+107\n",
      "\n"
     ]
    }
   ],
   "source": [
    "import math \n",
    "import numpy as np\n",
    "import pylab as pl\n",
    "valoresx = []\n",
    "valoresy = []\n",
    "i=0.0\n",
    "xi=i\n",
    "while (i<=10):\n",
    "    \n",
    "    xi1=((3+xi**2)/2)\n",
    "    print i,\" \",xi,\" \",xi1\n",
    "    i+=1\n",
    "    xi=xi1\n",
    "    \n",
    "#Grafica\n",
    "x=-10\n",
    "print \"\"\n",
    "while (x<=10):\n",
    "    \n",
    "    y=(x**2)-(2*x)+3\n",
    "    valoresx.append(x)\n",
    "    valoresy.append(y)\n",
    "    x+=0.01\n",
    "    \n",
    "f1 = pl.plot(valoresx, valoresy, \"r\")\n",
    "pl.title(\"x^2-2x+3\")\n",
    "pl.xlabel(\"x\")\n",
    "pl.ylabel(\"y\")\n",
    "pl.xlim(-10, 10)\n",
    "pl.ylim(0, 150)\n",
    "pl.grid(True)\n",
    "#pl.legend([f1], (\"Velocidad exacta\"), \"best\", numpoints=1)\n",
    "pl.show()"
   ]
  },
  {
   "cell_type": "markdown",
   "metadata": {},
   "source": [
    "# (e^-x )-x"
   ]
  },
  {
   "cell_type": "code",
   "execution_count": 52,
   "metadata": {
    "collapsed": false
   },
   "outputs": [
    {
     "name": "stdout",
     "output_type": "stream",
     "text": [
      "0.0  |  0.0  |    |  100.0\n",
      "1.0  |  1.0  |  100.0  |  76.3222835626\n",
      "2.0  |  0.367879441171  |  171.828182846  |  35.1346568569\n",
      "3.0  |  0.692200627555  |  46.8536394613  |  22.050395334\n",
      "4.0  |  0.500473500564  |  38.3091465933  |  11.7553695181\n",
      "5.0  |  0.606243535086  |  17.4467896812  |  6.89424450135\n",
      "6.0  |  0.545395785975  |  11.1566225254  |  3.83456957147\n",
      "7.0  |  0.579612335503  |  5.90335081441  |  2.198570577\n",
      "8.0  |  0.560115461361  |  3.48086697962  |  1.2391627941\n",
      "9.0  |  0.57114311508  |  1.93080393126  |  0.705258291988\n",
      "10.0  |  0.564879347391  |  1.10886824205  |  0.399183530665\n",
      "\n"
     ]
    }
   ],
   "source": [
    "import math \n",
    "import numpy as np\n",
    "import pylab as pl\n",
    "valoresx = []\n",
    "valoresy = []\n",
    "i=0.0\n",
    "xi=i\n",
    "xant=-1\n",
    "while (i<=10):\n",
    "    \n",
    "    xi1=math.exp(-xi)\n",
    "    if(xant>=0):\n",
    "        \n",
    "        ea=math.fabs(((xi-xant)/xi)*100)\n",
    "        \n",
    "    if (xant<0):\n",
    "        ea=\"\"\n",
    "    et=math.fabs(((0.56714329-xi)/0.56714329)*100)\n",
    "    print i,\" | \",xi,\" | \",ea,\" | \",et\n",
    "    i+=1\n",
    "    xant=xi\n",
    "    xi=xi1\n",
    "    \n",
    "#Grafica\n",
    "x=-10\n",
    "print \"\"\n",
    "while (x<=10):\n",
    "    \n",
    "    y=(math.exp(-x)-x)\n",
    "    valoresx.append(x)\n",
    "    valoresy.append(y)\n",
    "    x+=0.01\n",
    "    \n",
    "f1 = pl.plot(valoresx, valoresy, \"r\")\n",
    "pl.title(\"e^-x-x\")\n",
    "pl.xlabel(\"x\")\n",
    "pl.ylabel(\"y\")\n",
    "pl.xlim(-2, 2)\n",
    "pl.ylim(-2, 2)\n",
    "#pl.legend([f1], (\"Velocidad exacta\"), \"best\", numpoints=1)\n",
    "pl.grid(True)\n",
    "pl.show()"
   ]
  }
 ],
 "metadata": {
  "kernelspec": {
   "display_name": "Python 2",
   "language": "python",
   "name": "python2"
  },
  "language_info": {
   "codemirror_mode": {
    "name": "ipython",
    "version": 2
   },
   "file_extension": ".py",
   "mimetype": "text/x-python",
   "name": "python",
   "nbconvert_exporter": "python",
   "pygments_lexer": "ipython2",
   "version": "2.7.10"
  }
 },
 "nbformat": 4,
 "nbformat_minor": 0
}
