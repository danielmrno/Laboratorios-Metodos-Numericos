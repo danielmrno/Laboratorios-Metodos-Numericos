{
 "cells": [
  {
   "cell_type": "code",
   "execution_count": null,
   "metadata": {
    "collapsed": false
   },
   "outputs": [],
   "source": [
    "import math \n",
    "xi=0.5\n",
    "xu=1\n",
    "error=100\n",
    "def fx(x):\n",
    "        return ((math.exp(-x))-x)\n",
    "    \n",
    "if ((fx(xi)*fx(xu))<0):\n",
    "    while(error>0.000000000000000000001):\n",
    "        xr=(xi+xu)/2\n",
    "        \n",
    "        print xi,\" \",xu,\" \",xr\n",
    "        if ((fx(xi)*fx(xu))<0):\n",
    "            \n",
    "            xu=xr\n",
    "        if ((fx(xi)*fx(xu))>0):\n",
    "           \n",
    "            xi=xr\n",
    "        "
   ]
  },
  {
   "cell_type": "code",
   "execution_count": null,
   "metadata": {
    "collapsed": true
   },
   "outputs": [],
   "source": []
  }
 ],
 "metadata": {
  "kernelspec": {
   "display_name": "Python 2",
   "language": "python",
   "name": "python2"
  },
  "language_info": {
   "codemirror_mode": {
    "name": "ipython",
    "version": 2
   },
   "file_extension": ".py",
   "mimetype": "text/x-python",
   "name": "python",
   "nbconvert_exporter": "python",
   "pygments_lexer": "ipython2",
   "version": "2.7.10"
  }
 },
 "nbformat": 4,
 "nbformat_minor": 0
}
