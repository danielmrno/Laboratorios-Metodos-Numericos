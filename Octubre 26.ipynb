{
 "cells": [
  {
   "cell_type": "markdown",
   "metadata": {},
   "source": [
    "# Solucion de sistemas pequeños de ecuaciones: Metodo Grafico"
   ]
  },
  {
   "cell_type": "code",
   "execution_count": 2,
   "metadata": {
    "collapsed": false
   },
   "outputs": [],
   "source": [
    "import math \n",
    "import numpy as np\n",
    "import pylab as pl\n",
    "valoresx1 = []\n",
    "valoresy1 = []\n",
    "valoresx2 = []\n",
    "valoresy2 = []\n",
    "x=-10.0\n",
    "y=0.0\n",
    "def fx1(x):\n",
    "        return (-(3/2)*x)+9\n",
    "def fx2(x):\n",
    "        return (x/2)+1\n",
    "while (x<=10):\n",
    "    y1=fx1(x)\n",
    "    valoresx1.append(x)\n",
    "    valoresy1.append(y1)\n",
    "    x+=0.01\n",
    "x=-10.0\n",
    "while (x<=10):\n",
    "    y2=fx2(x)\n",
    "    valoresx2.append(x)\n",
    "    valoresy2.append(y2)\n",
    "    x+=0.01\n",
    "\n",
    "    \n",
    "f1 = pl.plot(valoresx1, valoresy1, \"r\")\n",
    "f2 = pl.plot(valoresx2, valoresy2, \"g\")\n",
    "\n",
    "pl.title(\"Ejercicio 1\")\n",
    "pl.xlabel(\"x\")\n",
    "pl.ylabel(\"y\")\n",
    "pl.xlim(-10, 10)\n",
    "pl.ylim(0, 10)\n",
    "pl.grid(True)\n",
    "\n",
    "pl.show()"
   ]
  },
  {
   "cell_type": "code",
   "execution_count": 3,
   "metadata": {
    "collapsed": true
   },
   "outputs": [],
   "source": [
    "import math \n",
    "import numpy as np\n",
    "import pylab as pl\n",
    "valoresx1 = []\n",
    "valoresy1 = []\n",
    "valoresx2 = []\n",
    "valoresy2 = []\n",
    "x=-10.0\n",
    "y=0.0\n",
    "def fx1(x):\n",
    "        return (x/2)+1\n",
    "def fx2(x):\n",
    "        return (x/2)+1/2\n",
    "while (x<=10):\n",
    "    y1=fx1(x)\n",
    "    valoresx1.append(x)\n",
    "    valoresy1.append(y1)\n",
    "    x+=0.01\n",
    "x=-10.0\n",
    "while (x<=10):\n",
    "    y2=fx2(x)\n",
    "    valoresx2.append(x)\n",
    "    valoresy2.append(y2)\n",
    "    x+=0.01\n",
    "\n",
    "    \n",
    "f1 = pl.plot(valoresx1, valoresy1, \"r\")\n",
    "f2 = pl.plot(valoresx2, valoresy2, \"g\")\n",
    "\n",
    "pl.title(\"Ejercicio 2\")\n",
    "pl.xlabel(\"x\")\n",
    "pl.ylabel(\"y\")\n",
    "pl.xlim(-10, 10)\n",
    "pl.ylim(0, 10)\n",
    "pl.grid(True)\n",
    "\n",
    "pl.show()"
   ]
  },
  {
   "cell_type": "code",
   "execution_count": 5,
   "metadata": {
    "collapsed": true
   },
   "outputs": [],
   "source": [
    "import math \n",
    "import numpy as np\n",
    "import pylab as pl\n",
    "valoresx1 = []\n",
    "valoresy1 = []\n",
    "valoresx2 = []\n",
    "valoresy2 = []\n",
    "x=-10.0\n",
    "y=0.0\n",
    "def fx1(x):\n",
    "        return 1+(x/2)\n",
    "def fx2(x):\n",
    "        return (2+x)/2\n",
    "while (x<=10):\n",
    "    y1=fx1(x)\n",
    "    valoresx1.append(x)\n",
    "    valoresy1.append(y1)\n",
    "    x+=0.01\n",
    "x=-10.0\n",
    "while (x<=10):\n",
    "    y2=fx2(x)\n",
    "    valoresx2.append(x)\n",
    "    valoresy2.append(y2)\n",
    "    x+=0.01\n",
    "\n",
    "    \n",
    "f1 = pl.plot(valoresx1, valoresy1, \"r\")\n",
    "f2 = pl.plot(valoresx2, valoresy2, \"g\")\n",
    "\n",
    "pl.title(\"Ejercicio 3\")\n",
    "pl.xlabel(\"x\")\n",
    "pl.ylabel(\"y\")\n",
    "pl.xlim(-10, 10)\n",
    "pl.ylim(0, 10)\n",
    "pl.grid(True)\n",
    "\n",
    "pl.show()"
   ]
  },
  {
   "cell_type": "code",
   "execution_count": 6,
   "metadata": {
    "collapsed": true
   },
   "outputs": [],
   "source": [
    "import math \n",
    "import numpy as np\n",
    "import pylab as pl\n",
    "valoresx1 = []\n",
    "valoresy1 = []\n",
    "valoresx2 = []\n",
    "valoresy2 = []\n",
    "x=-10.0\n",
    "y=0.0\n",
    "def fx1(x):\n",
    "        return 1.1+(2.3*x/5)\n",
    "def fx2(x):\n",
    "        return 1+(x/2)\n",
    "while (x<=10):\n",
    "    y1=fx1(x)\n",
    "    valoresx1.append(x)\n",
    "    valoresy1.append(y1)\n",
    "    x+=0.01\n",
    "x=-10.0\n",
    "while (x<=10):\n",
    "    y2=fx2(x)\n",
    "    valoresx2.append(x)\n",
    "    valoresy2.append(y2)\n",
    "    x+=0.01\n",
    "\n",
    "    \n",
    "f1 = pl.plot(valoresx1, valoresy1, \"r\")\n",
    "f2 = pl.plot(valoresx2, valoresy2, \"g\")\n",
    "\n",
    "pl.title(\"Ejercicio 4\")\n",
    "pl.xlabel(\"x\")\n",
    "pl.ylabel(\"y\")\n",
    "pl.xlim(-10, 10)\n",
    "pl.ylim(0, 10)\n",
    "pl.grid(True)\n",
    "\n",
    "pl.show()"
   ]
  },
  {
   "cell_type": "code",
   "execution_count": null,
   "metadata": {
    "collapsed": true
   },
   "outputs": [],
   "source": []
  }
 ],
 "metadata": {
  "kernelspec": {
   "display_name": "Python 2",
   "language": "python",
   "name": "python2"
  },
  "language_info": {
   "codemirror_mode": {
    "name": "ipython",
    "version": 2
   },
   "file_extension": ".py",
   "mimetype": "text/x-python",
   "name": "python",
   "nbconvert_exporter": "python",
   "pygments_lexer": "ipython2",
   "version": "2.7.10"
  }
 },
 "nbformat": 4,
 "nbformat_minor": 0
}
