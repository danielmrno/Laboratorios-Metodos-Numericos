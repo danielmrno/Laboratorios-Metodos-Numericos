{
 "cells": [
  {
   "cell_type": "markdown",
   "metadata": {},
   "source": [
    "# Laboratorio #1 -Daniel Moreno 160003130"
   ]
  },
  {
   "cell_type": "code",
   "execution_count": 10,
   "metadata": {
    "collapsed": false
   },
   "outputs": [
    {
     "name": "stdout",
     "output_type": "stream",
     "text": [
      "* 1\n",
      "  valor : 1\n",
      "  error : 100\n",
      "* 2\n",
      "  valor : 1.5\n",
      "  error : 33.3333333333\n",
      "* 3\n",
      "  valor : 1.625\n",
      "  error : 7.69230769231\n",
      "* 4\n",
      "  valor : 1.64583333333\n",
      "  error : 1.26582278481\n",
      "* 5\n",
      "  valor : 1.6484375\n",
      "  error : 0.157977883096\n",
      "* 6\n",
      "  valor : 1.64869791667\n",
      "  error : 0.0157952930027\n",
      "* 7\n",
      "  valor : 1.64871961806\n",
      "  error : 0.00131625709133\n",
      "* 8\n",
      "  valor : 1.64872116815\n",
      "  error : 9.4018275271e-05\n"
     ]
    }
   ],
   "source": [
    "import math\n",
    "n=1\n",
    "es=0.0005\n",
    "count=1\n",
    "aux=0\n",
    "err=100\n",
    "while err > es:\n",
    "    x=0.5\n",
    "    y=(math.factorial(n))\n",
    "    fun=(x**n)/y #funcion\n",
    "    print \"*\",n \n",
    "    n += 1\n",
    "    err=((count-aux)/count)*100 \n",
    "    aux=count\n",
    "    print \"  valor :\",count\n",
    "    count += fun\n",
    "    print \"  error :\",err "
   ]
  },
  {
   "cell_type": "code",
   "execution_count": null,
   "metadata": {
    "collapsed": true
   },
   "outputs": [],
   "source": []
  }
 ],
 "metadata": {
  "kernelspec": {
   "display_name": "Python 2",
   "language": "python",
   "name": "python2"
  },
  "language_info": {
   "codemirror_mode": {
    "name": "ipython",
    "version": 2
   },
   "file_extension": ".py",
   "mimetype": "text/x-python",
   "name": "python",
   "nbconvert_exporter": "python",
   "pygments_lexer": "ipython2",
   "version": "2.7.10"
  }
 },
 "nbformat": 4,
 "nbformat_minor": 0
}
