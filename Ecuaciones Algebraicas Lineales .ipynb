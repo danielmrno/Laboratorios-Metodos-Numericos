{
 "cells": [
  {
   "cell_type": "markdown",
   "metadata": {},
   "source": [
    "# Ecuaciones Algebraicas Lineales"
   ]
  },
  {
   "cell_type": "markdown",
   "metadata": {},
   "source": [
    "# Ejercicio 9,1"
   ]
  },
  {
   "cell_type": "code",
   "execution_count": null,
   "metadata": {
    "collapsed": false
   },
   "outputs": [],
   "source": [
    "print \"5x1+2x2=50\"\n",
    "print \"x3+x1=10\"\n",
    "print \"3x2+8x1=20\"\n",
    "print \"\"\n",
    "print \"5  2  0  |  50\"\n",
    "print \"1  0  1  |  10\"\n",
    "print \"8  3  0  |  20\"\n",
    "print \"\"\n",
    "print \"Transpuesta\"\n",
    "print \"\"\n",
    "print \"5  1  8  |  50\"\n",
    "print \"2  0  3  |  10\"\n",
    "print \"0  1  0  |  20\"\n"
   ]
  },
  {
   "cell_type": "markdown",
   "metadata": {},
   "source": [
    "# Ejercicio 9,2"
   ]
  },
  {
   "cell_type": "markdown",
   "metadata": {},
   "source": [
    "a) \n",
    "b)\n",
    "A(32)\n",
    "B(33)Cuadrada\n",
    "C(31)Columna\n",
    "D(24)\n",
    "E(33)Cuadrada\n",
    "F(23)\n",
    "G(13)Renglon\n",
    "\n",
    "c) \n",
    "A12=7\n",
    "B23=7\n",
    "D32=No existe\n",
    "E22=2\n",
    "F12=0\n",
    "G22=6\n",
    "\n",
    "d) \n"
   ]
  }
 ],
 "metadata": {
  "kernelspec": {
   "display_name": "Python 2",
   "language": "python",
   "name": "python2"
  },
  "language_info": {
   "codemirror_mode": {
    "name": "ipython",
    "version": 2
   },
   "file_extension": ".py",
   "mimetype": "text/x-python",
   "name": "python",
   "nbconvert_exporter": "python",
   "pygments_lexer": "ipython2",
   "version": "2.7.10"
  }
 },
 "nbformat": 4,
 "nbformat_minor": 0
}
